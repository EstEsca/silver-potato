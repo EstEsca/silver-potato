{
 "cells": [
  {
   "cell_type": "code",
   "execution_count": 2,
   "id": "ccac31d3",
   "metadata": {},
   "outputs": [],
   "source": [
    "import numpy as np\n",
    "from PIL import Image\n",
    "\n",
    "array = np.random.randint(255, size=(400, 400), dtype=np.uint8)\n",
    "image = Image.fromarray(array)\n",
    "image.show()\n"
   ]
  },
  {
   "cell_type": "code",
   "execution_count": null,
   "id": "113b8574",
   "metadata": {},
   "outputs": [],
   "source": [
    "#https://ok-lab.tistory.com/202\n"
   ]
  }
 ],
 "metadata": {
  "kernelspec": {
   "display_name": "Python 3 (ipykernel)",
   "language": "python",
   "name": "python3"
  },
  "language_info": {
   "codemirror_mode": {
    "name": "ipython",
    "version": 3
   },
   "file_extension": ".py",
   "mimetype": "text/x-python",
   "name": "python",
   "nbconvert_exporter": "python",
   "pygments_lexer": "ipython3",
   "version": "3.11.5"
  }
 },
 "nbformat": 4,
 "nbformat_minor": 5
}
